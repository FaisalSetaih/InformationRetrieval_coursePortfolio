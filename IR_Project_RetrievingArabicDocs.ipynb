{
 "cells": [
  {
   "cell_type": "code",
   "execution_count": 40,
   "id": "99142f24",
   "metadata": {},
   "outputs": [
    {
     "data": {
      "text/plain": [
       "{'doc0': 'هذا هو اليوم الأول من دورة استرجاع المعلومات',\n",
       " 'doc1': 'الدورة باللغة العربية للطلاب العرب',\n",
       " 'doc2': 'اليوم هو 30 مايو 2021',\n",
       " 'doc3': 'نأمل أن تفيد هذه الدورة الطلاب العرب',\n",
       " 'doc4': 'هل أنتم سعداء بهذه التجربة'}"
      ]
     },
     "execution_count": 40,
     "metadata": {},
     "output_type": "execute_result"
    }
   ],
   "source": [
    "d0 = \"هذا هو اليوم الأول من دورة استرجاع المعلومات\"\n",
    "d1 = \"الدورة باللغة العربية للطلاب العرب\"\n",
    "d2 = \"اليوم هو 30 مايو 2021\"\n",
    "d3 = \"نأمل أن تفيد هذه الدورة الطلاب العرب\"\n",
    "d4 = \"هل أنتم سعداء بهذه التجربة\"\n",
    "collection = {\"doc0\": d0, \"doc1\": d1, \"doc2\": d2, \"doc3\": d3, \"doc4\": d4}\n",
    "collection"
   ]
  },
  {
   "cell_type": "code",
   "execution_count": 5,
   "id": "3f8e7a81",
   "metadata": {},
   "outputs": [],
   "source": [
    "boolean_operators = {'AND', 'OR', 'NOT'}"
   ]
  },
  {
   "cell_type": "code",
   "execution_count": 9,
   "id": "27408e43",
   "metadata": {},
   "outputs": [],
   "source": [
    "  #list of terms\n",
    "def get_terms(data):\n",
    "    terms=[]\n",
    "    for doc in data:\n",
    "        for term in data[doc].split() :\n",
    "            terms.append(term)\n",
    "    return terms\n",
    "\n",
    "#list of unique terms\n",
    "def get_unique_terms(terms):\n",
    "    unique_terms=[]\n",
    "    for d in terms :\n",
    "        if d not in unique_terms:\n",
    "            unique_terms.append(d)\n",
    "    return unique_terms\n",
    "\n",
    "  #document collection terms\n",
    "def get_document_collection_terms(data):\n",
    "    docs_colllection={}\n",
    "    for doc in data:\n",
    "        if doc not in boolean_operators :\n",
    "            docs_colllection[doc]=get_unique_terms(data[doc].split())\n",
    "    return docs_colllection\n",
    "           \n",
    "def display_dict(dic):\n",
    "        print(\"\\n\")\n",
    "        for i in dic:\n",
    "            print (i , \" : \" ,dic[i])\n",
    "        print(\"\\n\")"
   ]
  },
  {
   "cell_type": "code",
   "execution_count": 45,
   "id": "b1e8114c",
   "metadata": {},
   "outputs": [
    {
     "name": "stdout",
     "output_type": "stream",
     "text": [
      " ### documents content ###\n",
      "\n",
      "\n",
      "doc0  :  هذا هو اليوم الأول من دورة استرجاع المعلومات\n",
      "doc1  :  الدورة باللغة العربية للطلاب العرب\n",
      "doc2  :  اليوم هو 30 مايو 2021\n",
      "doc3  :  نأمل أن تفيد هذه الدورة الطلاب العرب\n",
      "doc4  :  هل أنتم سعداء بهذه التجربة\n",
      "\n",
      "\n"
     ]
    }
   ],
   "source": [
    "#print our collection\n",
    "print(\" ### documents content ###\")\n",
    "display_dict(collection)"
   ]
  },
  {
   "cell_type": "code",
   "execution_count": 46,
   "id": "d4e794c9",
   "metadata": {},
   "outputs": [
    {
     "name": "stdout",
     "output_type": "stream",
     "text": [
      "\n",
      " ### Terms in 5 docs ###\n",
      "\n",
      " | هذا | هو | اليوم | الأول | من | دورة | استرجاع | المعلومات | الدورة | باللغة | العربية | للطلاب | العرب | اليوم | هو | 30 | مايو | 2021 | نأمل | أن | تفيد | هذه | الدورة | الطلاب | العرب | هل | أنتم | سعداء | بهذه | التجربة\n"
     ]
    }
   ],
   "source": [
    "#print the terms available in the collection\n",
    "print (\"\\n ### Terms in 5 docs ###\\n\\n\" , *get_terms(collection) ,sep= \" | \")"
   ]
  },
  {
   "cell_type": "code",
   "execution_count": 47,
   "id": "4091aad2",
   "metadata": {},
   "outputs": [
    {
     "name": "stdout",
     "output_type": "stream",
     "text": [
      "\n",
      " ### Unique Terms in 5 DOCs###\n",
      "\n",
      " | هذا | هو | اليوم | الأول | من | دورة | استرجاع | المعلومات | الدورة | باللغة | العربية | للطلاب | العرب | 30 | مايو | 2021 | نأمل | أن | تفيد | هذه | الطلاب | هل | أنتم | سعداء | بهذه | التجربة\n"
     ]
    }
   ],
   "source": [
    "#print the unique_terms available in the collection\n",
    "terms=get_terms(collection)\n",
    "print (\"\\n ### Unique Terms in 5 DOCs###\\n\\n\", *get_unique_terms(terms) ,sep=\" | \")"
   ]
  },
  {
   "cell_type": "code",
   "execution_count": 48,
   "id": "f18ee9b4",
   "metadata": {},
   "outputs": [
    {
     "name": "stdout",
     "output_type": "stream",
     "text": [
      "\n",
      " ###Document terms Collection ###\n",
      "\n",
      "\n",
      "doc0  :  ['هذا', 'هو', 'اليوم', 'الأول', 'من', 'دورة', 'استرجاع', 'المعلومات']\n",
      "doc1  :  ['الدورة', 'باللغة', 'العربية', 'للطلاب', 'العرب']\n",
      "doc2  :  ['اليوم', 'هو', '30', 'مايو', '2021']\n",
      "doc3  :  ['نأمل', 'أن', 'تفيد', 'هذه', 'الدورة', 'الطلاب', 'العرب']\n",
      "doc4  :  ['هل', 'أنتم', 'سعداء', 'بهذه', 'التجربة']\n",
      "\n",
      "\n"
     ]
    }
   ],
   "source": [
    "#print the unique terms in each collection in a dictionary format\n",
    "print (\"\\n ###Document terms Collection ###\" )\n",
    "display_dict(get_document_collection_terms(collection))"
   ]
  },
  {
   "cell_type": "code",
   "execution_count": 17,
   "id": "403dbf9e",
   "metadata": {},
   "outputs": [],
   "source": [
    "#this function takes the collection of documents in a form of dictionary as an input\n",
    "def term_document_incidence_matrix(collection):\n",
    "        ## list of terms from the data file collection\n",
    "        terms=get_terms(collection)\n",
    "        #list of unique terms\n",
    "        unique_terms=get_unique_terms(terms)\n",
    "        #Document collection terms\n",
    "        docs_terms=get_document_collection_terms(collection)\n",
    "        #TermDocumentIncidenceMatrix \n",
    "        term_docs_matrix={}\n",
    "        for term in unique_terms:\n",
    "            vector=[]\n",
    "            for c in docs_terms:\n",
    "\n",
    "                if term in docs_terms[c]:\n",
    "                    vector.append(1)\n",
    "                else :\n",
    "                    vector.append(0)\n",
    "\n",
    "            term_docs_matrix[term]=vector\n",
    "        return term_docs_matrix\n",
    "\n",
    "#this fucntion takes a term and a terms-document incidence matrix and returns the incidence vector of the term \n",
    "#this function just for explanation and display purposes   \n",
    "def term_incidence_vector(term,term_docs_incid_matrix):\n",
    "    try:\n",
    "        return term_docs_incid_matrix[term]\n",
    "    except:\n",
    "        return \"term not found\""
   ]
  },
  {
   "cell_type": "code",
   "execution_count": 18,
   "id": "7813ef1e",
   "metadata": {},
   "outputs": [
    {
     "name": "stdout",
     "output_type": "stream",
     "text": [
      "Term-Document incidence Matrix\n",
      "\n",
      "\n",
      "\n",
      "هذا  :  [1, 0, 0, 0, 0]\n",
      "هو  :  [1, 0, 1, 0, 0]\n",
      "اليوم  :  [1, 0, 1, 0, 0]\n",
      "الأول  :  [1, 0, 0, 0, 0]\n",
      "من  :  [1, 0, 0, 0, 0]\n",
      "دورة  :  [1, 0, 0, 0, 0]\n",
      "استرجاع  :  [1, 0, 0, 0, 0]\n",
      "المعلومات  :  [1, 0, 0, 0, 0]\n",
      "الدورة  :  [0, 1, 0, 1, 0]\n",
      "باللغة  :  [0, 1, 0, 0, 0]\n",
      "العربية  :  [0, 1, 0, 0, 0]\n",
      "للطلاب  :  [0, 1, 0, 0, 0]\n",
      "العرب  :  [0, 1, 0, 1, 0]\n",
      "30  :  [0, 0, 1, 0, 0]\n",
      "مايو  :  [0, 0, 1, 0, 0]\n",
      "2021  :  [0, 0, 1, 0, 0]\n",
      "نأمل  :  [0, 0, 0, 1, 0]\n",
      "أن  :  [0, 0, 0, 1, 0]\n",
      "تفيد  :  [0, 0, 0, 1, 0]\n",
      "هذه  :  [0, 0, 0, 1, 0]\n",
      "الطلاب  :  [0, 0, 0, 1, 0]\n",
      "هل  :  [0, 0, 0, 0, 1]\n",
      "أنتم  :  [0, 0, 0, 0, 1]\n",
      "سعداء  :  [0, 0, 0, 0, 1]\n",
      "بهذه  :  [0, 0, 0, 0, 1]\n",
      "التجربة  :  [0, 0, 0, 0, 1]\n",
      "\n",
      "\n"
     ]
    }
   ],
   "source": [
    "#build the term-document incidence matrix\n",
    "term_docs_incid_matrix=term_document_incidence_matrix(collection)\n",
    "print(\"Term-Document incidence Matrix\\n\")\n",
    "#formatted Display \n",
    "display_dict(term_docs_incid_matrix)\n"
   ]
  },
  {
   "cell_type": "code",
   "execution_count": 19,
   "id": "9a7219aa",
   "metadata": {},
   "outputs": [
    {
     "name": "stdout",
     "output_type": "stream",
     "text": [
      "Incidence Vector of 'العرب'  [0, 1, 0, 1, 0]\n"
     ]
    }
   ],
   "source": [
    "print(\"Incidence Vector of 'العرب' \",term_incidence_vector('العرب',term_docs_incid_matrix))"
   ]
  },
  {
   "cell_type": "code",
   "execution_count": 21,
   "id": "f5daa17a",
   "metadata": {},
   "outputs": [
    {
     "name": "stdout",
     "output_type": "stream",
     "text": [
      "['استرجاع', 'AND', 'المعلومات', 'AND', 'دورة']\n"
     ]
    }
   ],
   "source": [
    "#Query Filteration\n",
    "#input : Query \n",
    "#output : List of terms of a given query which match with the terms in our collection and the our defined boolean operators\n",
    "def query_filteration(query,collection):\n",
    "    terms= get_terms(collection)\n",
    "    unique_terms=get_unique_terms(terms)\n",
    "    qterms=[]\n",
    "    splitted_query=query.split()\n",
    "    for qterm in splitted_query:\n",
    "        if qterm in unique_terms or qterm in boolean_operators:\n",
    "            qterms.append(qterm)\n",
    "    return qterms\n",
    "\n",
    "query=\"استرجاع AND المعلومات AND دورة\"\n",
    "qterms=query_filteration(query,collection)\n",
    "print(qterms)"
   ]
  },
  {
   "cell_type": "code",
   "execution_count": 22,
   "id": "b8e6465b",
   "metadata": {},
   "outputs": [
    {
     "name": "stdout",
     "output_type": "stream",
     "text": [
      "['استرجاع', 'المعلومات', 'AND']\n"
     ]
    }
   ],
   "source": [
    "#and should be capitalized and اليمن is not in our collection\n",
    "query=\"استرجاع and المعلومات AND اليمن\"\n",
    "qterms=query_filteration(query,collection)\n",
    "print(qterms)"
   ]
  },
  {
   "cell_type": "code",
   "execution_count": 24,
   "id": "c406b79d",
   "metadata": {},
   "outputs": [
    {
     "name": "stdout",
     "output_type": "stream",
     "text": [
      "v1 [1, 0, 0, 0, 0]\n",
      "v2 [0, 1, 0, 1, 0]\n"
     ]
    }
   ],
   "source": [
    "# Boolean Operator Processing \n",
    "# input : Boolean Operator ,Next term Incedence Vector ,Previous term Incedence Vector \n",
    "def boolean_operator_processing(bool_operator,prevV,nextV):\n",
    "    if bool_operator == \"AND\":\n",
    "        return [a & b for a, b in zip(prevV, nextV)]\n",
    "    elif bool_operator==\"OR\" :\n",
    "        return [a | b for a, b in zip(prevV, nextV)]\n",
    "    elif bool_operator == \"NOT\":\n",
    "        return [1-a for a in prevV]\n",
    "    \n",
    "v1=term_incidence_vector('استرجاع',term_docs_incid_matrix)\n",
    "v2=term_incidence_vector('الدورة',term_docs_incid_matrix)\n",
    "v3=[]\n",
    "print('v1',v1)\n",
    "print('v2',v2)"
   ]
  },
  {
   "cell_type": "code",
   "execution_count": 25,
   "id": "ee96b796",
   "metadata": {},
   "outputs": [
    {
     "name": "stdout",
     "output_type": "stream",
     "text": [
      "[0, 0, 0, 0, 0]\n"
     ]
    }
   ],
   "source": [
    "print(boolean_operator_processing(\"AND\",v1,v2))"
   ]
  },
  {
   "cell_type": "code",
   "execution_count": 26,
   "id": "15843be5",
   "metadata": {},
   "outputs": [
    {
     "name": "stdout",
     "output_type": "stream",
     "text": [
      "[1, 1, 0, 1, 0]\n"
     ]
    }
   ],
   "source": [
    "print(boolean_operator_processing(\"OR\",v1,v2))"
   ]
  },
  {
   "cell_type": "code",
   "execution_count": 27,
   "id": "68f6b6fb",
   "metadata": {},
   "outputs": [
    {
     "name": "stdout",
     "output_type": "stream",
     "text": [
      "[0, 1, 1, 1, 1]\n"
     ]
    }
   ],
   "source": [
    "print(boolean_operator_processing(\"NOT\",v1,v3))"
   ]
  },
  {
   "cell_type": "code",
   "execution_count": 29,
   "id": "e767e2b7",
   "metadata": {},
   "outputs": [
    {
     "data": {
      "text/plain": [
       "{'doc0': 'هذا هو اليوم الأول من دورة استرجاع المعلومات',\n",
       " 'doc1': 'الدورة باللغة العربية للطلاب العرب',\n",
       " 'doc2': 'اليوم هو 30 مايو 2021',\n",
       " 'doc3': 'نأمل أن تفيد هذه الدورة الطلاب العرب',\n",
       " 'doc4': 'هل أنتم سعداء بهذه التجربة'}"
      ]
     },
     "execution_count": 29,
     "metadata": {},
     "output_type": "execute_result"
    }
   ],
   "source": [
    "# Boolean retrieval function\n",
    "# input : Query \n",
    "def boolean_retrieval(query,collection):\n",
    "        #build a terms_documents incidence matrix\n",
    "        term_docs_incid_matrix=term_document_incidence_matrix(collection)\n",
    "        bitwiseop=\"\"\n",
    "        #get the query terms\n",
    "        qterms=query_filteration(query,collection)\n",
    "        result=[]\n",
    "        result_set={}\n",
    "        has_previous_term=False\n",
    "        has_not_operation=False\n",
    "        inc_vec_prev=[]\n",
    "        inc_vec_next=[]\n",
    "        for term in qterms :\n",
    "            if term not in boolean_operators:\n",
    "                if  has_not_operation:\n",
    "                    if has_previous_term:\n",
    "                         inc_vec_next=boolean_operator_processing(\"NOT\",term_docs_incid_matrix[term],inc_vec_next)\n",
    "                    else :\n",
    "                        inc_vec_prev=boolean_operator_processing(\"NOT\",term_docs_incid_matrix[term],inc_vec_next)\n",
    "                        result=inc_vec_prev\n",
    "                    has_not_operation=False\n",
    "                    \n",
    "                elif  has_previous_term:\n",
    "                    \n",
    "                    inc_vec_next=term_docs_incid_matrix[term]\n",
    "                else :\n",
    "                    \n",
    "                    inc_vec_prev=term_docs_incid_matrix[term]\n",
    "                    result= inc_vec_prev\n",
    "                    has_previous_term=True    \n",
    "            \n",
    "            elif term ==\"NOT\":\n",
    "                 has_not_operation=True\n",
    "            \n",
    "            else :\n",
    "                bitwiseop=term\n",
    "                \n",
    "            if  len(inc_vec_next)!= 0  :\n",
    "                result = boolean_operator_processing(bitwiseop,inc_vec_prev,inc_vec_next)\n",
    "                inc_vec_prev=result\n",
    "                has_previous_term=True\n",
    "                inc_vec_next= []\n",
    "    \n",
    "        for i,doc in zip(result,collection):\n",
    "            result_set[doc]=i\n",
    "        return result_set\n",
    "    \n",
    "#print the collection to check whether the boolean retrieval output is correct or not easily\n",
    "collection"
   ]
  },
  {
   "cell_type": "code",
   "execution_count": 30,
   "id": "38123025",
   "metadata": {},
   "outputs": [
    {
     "name": "stdout",
     "output_type": "stream",
     "text": [
      "query1 boolean retrieval  {'doc0': 1, 'doc1': 1, 'doc2': 0, 'doc3': 1, 'doc4': 1}\n"
     ]
    }
   ],
   "source": [
    "query1 = \"استرجاع OR الدورة OR سعداء\"\n",
    "print(\"query1 boolean retrieval \",boolean_retrieval(query1,collection))"
   ]
  },
  {
   "cell_type": "code",
   "execution_count": 31,
   "id": "bc649b83",
   "metadata": {},
   "outputs": [
    {
     "data": {
      "text/plain": [
       "[1, 0, 0, 0, 0]"
      ]
     },
     "execution_count": 31,
     "metadata": {},
     "output_type": "execute_result"
    }
   ],
   "source": [
    "v1=term_incidence_vector(\"استرجاع\",term_docs_incid_matrix)\n",
    "v1"
   ]
  },
  {
   "cell_type": "code",
   "execution_count": 32,
   "id": "d2224c98",
   "metadata": {},
   "outputs": [
    {
     "data": {
      "text/plain": [
       "[0, 1, 0, 1, 0]"
      ]
     },
     "execution_count": 32,
     "metadata": {},
     "output_type": "execute_result"
    }
   ],
   "source": [
    "v2=term_incidence_vector(\"الدورة\",term_docs_incid_matrix)\n",
    "v2"
   ]
  },
  {
   "cell_type": "code",
   "execution_count": 33,
   "id": "31900279",
   "metadata": {},
   "outputs": [
    {
     "data": {
      "text/plain": [
       "[1, 1, 0, 1, 0]"
      ]
     },
     "execution_count": 33,
     "metadata": {},
     "output_type": "execute_result"
    }
   ],
   "source": [
    "Qpart1=boolean_operator_processing(\"OR\",v1,v2)\n",
    "Qpart1"
   ]
  },
  {
   "cell_type": "code",
   "execution_count": 34,
   "id": "5e94db8e",
   "metadata": {},
   "outputs": [
    {
     "data": {
      "text/plain": [
       "[0, 0, 0, 0, 1]"
      ]
     },
     "execution_count": 34,
     "metadata": {},
     "output_type": "execute_result"
    }
   ],
   "source": [
    "v3=term_incidence_vector(\"سعداء\",term_docs_incid_matrix)\n",
    "v3"
   ]
  },
  {
   "cell_type": "code",
   "execution_count": 35,
   "id": "801487ba",
   "metadata": {},
   "outputs": [
    {
     "data": {
      "text/plain": [
       "[1, 1, 0, 1, 1]"
      ]
     },
     "execution_count": 35,
     "metadata": {},
     "output_type": "execute_result"
    }
   ],
   "source": [
    "boolean_operator_processing(\"OR\",Qpart1,v3)"
   ]
  },
  {
   "cell_type": "code",
   "execution_count": 36,
   "id": "fc0d8d59",
   "metadata": {},
   "outputs": [
    {
     "data": {
      "text/plain": [
       "{'doc0': 'هذا هو اليوم الأول من دورة استرجاع المعلومات',\n",
       " 'doc1': 'الدورة باللغة العربية للطلاب العرب',\n",
       " 'doc2': 'اليوم هو 30 مايو 2021',\n",
       " 'doc3': 'نأمل أن تفيد هذه الدورة الطلاب العرب',\n",
       " 'doc4': 'هل أنتم سعداء بهذه التجربة'}"
      ]
     },
     "execution_count": 36,
     "metadata": {},
     "output_type": "execute_result"
    }
   ],
   "source": [
    "#print the collection to check whether the boolean retrieval output is correct or not easily\n",
    "collection"
   ]
  },
  {
   "cell_type": "code",
   "execution_count": 37,
   "id": "1e85e922",
   "metadata": {},
   "outputs": [
    {
     "name": "stdout",
     "output_type": "stream",
     "text": [
      "query2 boolean retrieval  {'doc0': 1, 'doc1': 0, 'doc2': 0, 'doc3': 0, 'doc4': 0}\n"
     ]
    }
   ],
   "source": [
    "query2 = \"استرجاع AND المعلومات AND NOT العربية\"\n",
    "print(\"query2 boolean retrieval \",boolean_retrieval(query2,collection))"
   ]
  },
  {
   "cell_type": "code",
   "execution_count": 38,
   "id": "4520efd5",
   "metadata": {},
   "outputs": [
    {
     "name": "stdout",
     "output_type": "stream",
     "text": [
      "query3 boolean retrieval result  {'doc0': 0, 'doc1': 1, 'doc2': 0, 'doc3': 1, 'doc4': 0}\n"
     ]
    }
   ],
   "source": [
    "query3 = \"العرب AND NOT المعلومات\"\n",
    "print(\"query3 boolean retrieval result \",boolean_retrieval(query3,collection))"
   ]
  }
 ],
 "metadata": {
  "kernelspec": {
   "display_name": "Python 3 (ipykernel)",
   "language": "python",
   "name": "python3"
  },
  "language_info": {
   "codemirror_mode": {
    "name": "ipython",
    "version": 3
   },
   "file_extension": ".py",
   "mimetype": "text/x-python",
   "name": "python",
   "nbconvert_exporter": "python",
   "pygments_lexer": "ipython3",
   "version": "3.9.13"
  }
 },
 "nbformat": 4,
 "nbformat_minor": 5
}
