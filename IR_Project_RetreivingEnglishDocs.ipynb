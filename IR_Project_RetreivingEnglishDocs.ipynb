{
 "cells": [
  {
   "cell_type": "code",
   "execution_count": 32,
   "id": "b8c9c15a",
   "metadata": {},
   "outputs": [
    {
     "name": "stdout",
     "output_type": "stream",
     "text": [
      "Requirement already satisfied: txtai in c:\\users\\lev\\anaconda3\\lib\\site-packages (5.5.1)\n",
      "Requirement already satisfied: torch>=1.6.0 in c:\\users\\lev\\anaconda3\\lib\\site-packages (from txtai) (2.0.1)\n",
      "Requirement already satisfied: transformers>=4.22.0 in c:\\users\\lev\\anaconda3\\lib\\site-packages (from txtai) (4.29.2)\n",
      "Requirement already satisfied: numpy>=1.18.4 in c:\\users\\lev\\anaconda3\\lib\\site-packages (from txtai) (1.21.5)\n",
      "Requirement already satisfied: faiss-cpu>=1.7.1.post2 in c:\\users\\lev\\anaconda3\\lib\\site-packages (from txtai) (1.7.4)\n",
      "Requirement already satisfied: pyyaml>=5.3 in c:\\users\\lev\\anaconda3\\lib\\site-packages (from txtai) (5.4.1)\n",
      "Requirement already satisfied: typing-extensions in c:\\users\\lev\\anaconda3\\lib\\site-packages (from torch>=1.6.0->txtai) (4.3.0)\n",
      "Requirement already satisfied: filelock in c:\\users\\lev\\anaconda3\\lib\\site-packages (from torch>=1.6.0->txtai) (3.6.0)\n",
      "Requirement already satisfied: sympy in c:\\users\\lev\\anaconda3\\lib\\site-packages (from torch>=1.6.0->txtai) (1.10.1)\n",
      "Requirement already satisfied: networkx in c:\\users\\lev\\anaconda3\\lib\\site-packages (from torch>=1.6.0->txtai) (2.8.4)\n",
      "Requirement already satisfied: jinja2 in c:\\users\\lev\\anaconda3\\lib\\site-packages (from torch>=1.6.0->txtai) (2.11.3)\n",
      "Requirement already satisfied: huggingface-hub<1.0,>=0.14.1 in c:\\users\\lev\\anaconda3\\lib\\site-packages (from transformers>=4.22.0->txtai) (0.14.1)\n",
      "Requirement already satisfied: regex!=2019.12.17 in c:\\users\\lev\\anaconda3\\lib\\site-packages (from transformers>=4.22.0->txtai) (2022.7.9)\n",
      "Requirement already satisfied: requests in c:\\users\\lev\\anaconda3\\lib\\site-packages (from transformers>=4.22.0->txtai) (2.28.1)\n",
      "Requirement already satisfied: packaging>=20.0 in c:\\users\\lev\\anaconda3\\lib\\site-packages (from transformers>=4.22.0->txtai) (21.3)\n",
      "Requirement already satisfied: tqdm>=4.27 in c:\\users\\lev\\anaconda3\\lib\\site-packages (from transformers>=4.22.0->txtai) (4.64.1)\n",
      "Requirement already satisfied: tokenizers!=0.11.3,<0.14,>=0.11.1 in c:\\users\\lev\\anaconda3\\lib\\site-packages (from transformers>=4.22.0->txtai) (0.13.3)\n",
      "Requirement already satisfied: fsspec in c:\\users\\lev\\anaconda3\\lib\\site-packages (from huggingface-hub<1.0,>=0.14.1->transformers>=4.22.0->txtai) (2022.7.1)\n",
      "Requirement already satisfied: pyparsing!=3.0.5,>=2.0.2 in c:\\users\\lev\\anaconda3\\lib\\site-packages (from packaging>=20.0->transformers>=4.22.0->txtai) (3.0.9)\n",
      "Requirement already satisfied: colorama in c:\\users\\lev\\anaconda3\\lib\\site-packages (from tqdm>=4.27->transformers>=4.22.0->txtai) (0.4.5)\n",
      "Requirement already satisfied: MarkupSafe>=0.23 in c:\\users\\lev\\anaconda3\\lib\\site-packages (from jinja2->torch>=1.6.0->txtai) (2.0.1)\n",
      "Requirement already satisfied: certifi>=2017.4.17 in c:\\users\\lev\\anaconda3\\lib\\site-packages (from requests->transformers>=4.22.0->txtai) (2022.9.14)\n",
      "Requirement already satisfied: idna<4,>=2.5 in c:\\users\\lev\\anaconda3\\lib\\site-packages (from requests->transformers>=4.22.0->txtai) (3.3)\n",
      "Requirement already satisfied: urllib3<1.27,>=1.21.1 in c:\\users\\lev\\anaconda3\\lib\\site-packages (from requests->transformers>=4.22.0->txtai) (1.26.11)\n",
      "Requirement already satisfied: charset-normalizer<3,>=2 in c:\\users\\lev\\anaconda3\\lib\\site-packages (from requests->transformers>=4.22.0->txtai) (2.0.4)\n",
      "Requirement already satisfied: mpmath>=0.19 in c:\\users\\lev\\anaconda3\\lib\\site-packages (from sympy->torch>=1.6.0->txtai) (1.2.1)\n",
      "Note: you may need to restart the kernel to use updated packages.\n"
     ]
    }
   ],
   "source": [
    "pip install txtai"
   ]
  },
  {
   "cell_type": "code",
   "execution_count": 13,
   "id": "08bda042",
   "metadata": {},
   "outputs": [],
   "source": [
    "from txtai.embeddings import Embeddings\n",
    "import json"
   ]
  },
  {
   "cell_type": "code",
   "execution_count": 14,
   "id": "90221047",
   "metadata": {},
   "outputs": [],
   "source": [
    "embeddings = Embeddings({\n",
    "    \"path\": \"sentence-transformers/all-MiniLM-L6-v2\"\n",
    "})"
   ]
  },
  {
   "cell_type": "code",
   "execution_count": 15,
   "id": "f7dc9718",
   "metadata": {},
   "outputs": [
    {
     "data": {
      "text/plain": [
       "21747"
      ]
     },
     "execution_count": 15,
     "metadata": {},
     "output_type": "execute_result"
    }
   ],
   "source": [
    "with open(\"data/vol7.json\", \"r\") as f:\n",
    "    data = json.load(f)[\"descriptions\"]\n",
    "len(data)"
   ]
  },
  {
   "cell_type": "code",
   "execution_count": 16,
   "id": "403c2d19",
   "metadata": {},
   "outputs": [
    {
     "data": {
      "text/plain": [
       "\"An ANCYL member who was shot and severely injured by SAP members at Lephoi, Bethulie, Orange Free State (OFS) on 17 April 1991. Police opened fire on a gathering at an ANC supporter's house following a dispute between two neighbours, one of whom was linked to the ANC and the other to the SAP and a councillor.\""
      ]
     },
     "execution_count": 16,
     "metadata": {},
     "output_type": "execute_result"
    }
   ],
   "source": [
    "data[0]"
   ]
  },
  {
   "cell_type": "code",
   "execution_count": 17,
   "id": "85c18231",
   "metadata": {},
   "outputs": [
    {
     "data": {
      "text/plain": [
       "(0,\n",
       " \"An ANCYL member who was shot and severely injured by SAP members at Lephoi, Bethulie, Orange Free State (OFS) on 17 April 1991. Police opened fire on a gathering at an ANC supporter's house following a dispute between two neighbours, one of whom was linked to the ANC and the other to the SAP and a councillor.\",\n",
       " None)"
      ]
     },
     "execution_count": 17,
     "metadata": {},
     "output_type": "execute_result"
    }
   ],
   "source": [
    "txtai_data = []\n",
    "i = 0\n",
    "for text in data:\n",
    "    txtai_data.append((i, text, None))\n",
    "    i=i+1\n",
    "txtai_data[0]"
   ]
  },
  {
   "cell_type": "code",
   "execution_count": 18,
   "id": "6b3ff673",
   "metadata": {},
   "outputs": [],
   "source": [
    "embeddings.index(txtai_data)"
   ]
  },
  {
   "cell_type": "code",
   "execution_count": 19,
   "id": "f548d76f",
   "metadata": {},
   "outputs": [],
   "source": [
    "res = embeddings.search(\"knife\", 10)"
   ]
  },
  {
   "cell_type": "code",
   "execution_count": 20,
   "id": "e0e0ea60",
   "metadata": {},
   "outputs": [
    {
     "name": "stdout",
     "output_type": "stream",
     "text": [
      "(16515, 0.43207472562789917)\n",
      "(8831, 0.37926575541496277)\n",
      "(4447, 0.3627329468727112)\n",
      "(7704, 0.3626168966293335)\n",
      "(4354, 0.35579508543014526)\n",
      "(20872, 0.33587515354156494)\n",
      "(4114, 0.3343178927898407)\n",
      "(4152, 0.3324798345565796)\n",
      "(10046, 0.3193833827972412)\n",
      "(18142, 0.31569236516952515)\n"
     ]
    }
   ],
   "source": [
    "for item in res:\n",
    "    print(item)"
   ]
  },
  {
   "cell_type": "code",
   "execution_count": 31,
   "id": "5bb40419",
   "metadata": {},
   "outputs": [
    {
     "name": "stdout",
     "output_type": "stream",
     "text": [
      "Text: A member of the BMW who was detained for seventeen days in October 1987 in Pollsmoor prison, Cape Town. During his detention he was interrogated, severely beaten and sexually assaulted by members of a special police Unrest Investigation Unit.\n",
      "Similarity: 0.8294849395751953\n",
      "\n",
      "Text: A BMW member who was detained and tortured by named members of a special police Unrest Investigation Unit in October 1987. \n",
      "Similarity: 0.8286020159721375\n",
      "\n",
      "Text: A member of the BMW who was detained in 1987 in Bonteheuwel, Cape Town, and severely tortured at the Bishop Lavis police station by named and other members of a special police Unrest Investigation Unit. He later served over two and a half years of a five year prison term.\n",
      "Similarity: 0.7427851557731628\n",
      "\n",
      "Text: A BMW member who was arrested in Bonteheuwel, Cape Town, on 2 October 1987, and repeatedly tortured by named members of a special police Unrest Investigation Unit.\n",
      "Similarity: 0.715957760810852\n",
      "\n",
      "Text: A UDF supporter and member of the BMW who was detained in 1986 and again in July 1987 when he was held for nine months and severely tortured by named members of a special police Unrest Investigation Unit.\n",
      "Similarity: 0.6817429065704346\n",
      "\n",
      "Text: A student activist and member of the BMW who was detained in Bonteheuwel, Cape Town, in July 1987, and was severely beaten by named and other members of a special police Unrest Investigation Unit. \n",
      "Similarity: 0.6788368225097656\n",
      "\n",
      "Text: A member of the BMW who was arrested in Bonteheuwel, Cape Town, in 1988, and tortured by named members of a special police Unrest Investigation Unit.\n",
      "Similarity: 0.6621261835098267\n",
      "\n",
      "Text: Was detained on 22 October 1987 by members of the Ciskei Police in East London. While in detention, he was severely beaten and tortured by suffocation.\n",
      "Similarity: 0.5931441187858582\n",
      "\n",
      "Text: Was detained for nine months by members of the Security Branch in East London on 18 June 1986.\n",
      "Similarity: 0.5892446637153625\n",
      "\n",
      "Text: A UDF supporter and BMW member who was detained and tortured by named members of a special police Unrest Investigation Unit  in the Brackenfell police station, Cape Town, on 2 October 1987.\n",
      "Similarity: 0.5764570236206055\n",
      "\n"
     ]
    }
   ],
   "source": [
    "res = embeddings.search(\"BMW member who was detained for seventeen days in October 1987\", 10)\n",
    "for r in res:\n",
    "    print(f\"Text: {data[r[0]]}\")\n",
    "    print(f\"Similarity: {r[1]}\")\n",
    "    print()"
   ]
  },
  {
   "cell_type": "code",
   "execution_count": null,
   "id": "63a39df6",
   "metadata": {},
   "outputs": [],
   "source": []
  }
 ],
 "metadata": {
  "kernelspec": {
   "display_name": "Python 3 (ipykernel)",
   "language": "python",
   "name": "python3"
  },
  "language_info": {
   "codemirror_mode": {
    "name": "ipython",
    "version": 3
   },
   "file_extension": ".py",
   "mimetype": "text/x-python",
   "name": "python",
   "nbconvert_exporter": "python",
   "pygments_lexer": "ipython3",
   "version": "3.9.13"
  }
 },
 "nbformat": 4,
 "nbformat_minor": 5
}
